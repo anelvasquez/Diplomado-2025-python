{
  "nbformat": 4,
  "nbformat_minor": 0,
  "metadata": {
    "colab": {
      "provenance": [],
      "authorship_tag": "ABX9TyPcx8N7rN8Z1Qz6TWeAlFdQ"
    },
    "kernelspec": {
      "name": "python3",
      "display_name": "Python 3"
    },
    "language_info": {
      "name": "python"
    }
  },
  "cells": [
    {
      "cell_type": "code",
      "source": [
        "import numpy as np"
      ],
      "metadata": {
        "id": "MgahQCtqt9Xw"
      },
      "execution_count": null,
      "outputs": []
    },
    {
      "cell_type": "markdown",
      "source": [
        "**Question 9**\n",
        "Class with attributed and methods"
      ],
      "metadata": {
        "id": "3MH8n01nWV_9"
      }
    },
    {
      "cell_type": "code",
      "source": [
        "# Define the class and its attributes\n",
        "class Car:\n",
        "    def __init__(self, brand, model, year):\n",
        "        self.brand = brand\n",
        "        self.model = model\n",
        "        self.year = year\n",
        "\n",
        "    def display_info(self):\n",
        "        print(f\"This is a {self.brand} {self.model}, from the year {self.year}\")\n"
      ],
      "metadata": {
        "id": "rOPNstxduHS5"
      },
      "execution_count": null,
      "outputs": []
    },
    {
      "cell_type": "code",
      "source": [
        "# Creste two car objects\n",
        "car1 = Car(\"Hyundai\", \"Venue\", 2020)\n",
        "car2 = Car(\"Honda\", \"CR-V\", 2022)"
      ],
      "metadata": {
        "id": "CXwf8xsfUtCj"
      },
      "execution_count": null,
      "outputs": []
    },
    {
      "cell_type": "code",
      "source": [
        "#Call the method for 1st object\n",
        "car1.display_info()"
      ],
      "metadata": {
        "colab": {
          "base_uri": "https://localhost:8080/"
        },
        "id": "rPIJashzVvx7",
        "outputId": "83bebb41-c82d-4e87-d70c-9b35761a8060"
      },
      "execution_count": null,
      "outputs": [
        {
          "output_type": "stream",
          "name": "stdout",
          "text": [
            "This is a Hyundai Venue, from the year 2020\n"
          ]
        }
      ]
    },
    {
      "cell_type": "code",
      "source": [
        "#Call the method for the 2nd object\n",
        "car2.display_info()"
      ],
      "metadata": {
        "colab": {
          "base_uri": "https://localhost:8080/"
        },
        "id": "SL6BhcRbWKVl",
        "outputId": "185889a3-b159-4283-f7d8-9836602efe76"
      },
      "execution_count": null,
      "outputs": [
        {
          "output_type": "stream",
          "name": "stdout",
          "text": [
            "This is a Honda CR-V, from the year 2022\n"
          ]
        }
      ]
    },
    {
      "cell_type": "markdown",
      "source": [
        "**Question 10**\n",
        "Using __init__ and self"
      ],
      "metadata": {
        "id": "T2Ae-6_3XTpy"
      }
    },
    {
      "cell_type": "code",
      "source": [
        "class Student:\n",
        "  def __init__(self, name, age, grade):\n",
        "    self.name = name\n",
        "    self.age = age\n",
        "    self.grade = grade\n",
        "\n",
        "  def is_passed(self):\n",
        "    if self.grade >= 11:\n",
        "      return \"passed\"\n",
        "    else:\n",
        "      return \"failed\"\n",
        "\n",
        "  def display_info(self):\n",
        "    print(f'The student named {self.name}, who is {self.age} years old, got {self.grade} in the last exam. Thus, {self.name} {self.is_passed()} the course')\n",
        "\n",
        "\n"
      ],
      "metadata": {
        "id": "yJII_fDtXlSP"
      },
      "execution_count": null,
      "outputs": []
    },
    {
      "cell_type": "code",
      "source": [
        "#Verify the class is working\n",
        "student1 = Student(\"Gloria\",16, 13)\n",
        "student1.display_info()"
      ],
      "metadata": {
        "colab": {
          "base_uri": "https://localhost:8080/"
        },
        "id": "YYCRwbr1ZSIA",
        "outputId": "84d515e5-8cf5-42bc-f519-e909ad312e93"
      },
      "execution_count": null,
      "outputs": [
        {
          "output_type": "stream",
          "name": "stdout",
          "text": [
            "The student named Gloria, who is 16 years old, got 13 in the last exam. Thus, Gloria passed the course\n"
          ]
        }
      ]
    },
    {
      "cell_type": "code",
      "source": [
        "#Add a class attribute that displays for all pbjects\n",
        "class Student:\n",
        "    # New atrribute for class\n",
        "    school = \"PUCP\"\n",
        "\n",
        "    def __init__(self, name, age, grade):\n",
        "        self.name = name\n",
        "        self.age = age\n",
        "        self.grade = grade\n",
        "\n",
        "    def is_passed(self):\n",
        "        if self.grade >= 11:\n",
        "            return \"passed\"\n",
        "        else:\n",
        "            return \"failed\"\n",
        "\n",
        "    #include the atrribute on the print\n",
        "    def display_info(self):\n",
        "        print(f'The student named {self.name}, who is {self.age} years old and studies at {Student.school} got {self.grade} in the last exam. Thus, {self.name} {self.is_passed()} the course.')\n"
      ],
      "metadata": {
        "id": "j2rojrJUf3bO"
      },
      "execution_count": 29,
      "outputs": []
    },
    {
      "cell_type": "code",
      "source": [
        "#Verify the new class is working\n",
        "student2 = Student(\"Romina\",15, 9)\n",
        "student3 = Student(\"Daniel\", 16, 19)\n",
        "\n",
        "student2.display_info()\n",
        "student3.display_info()\n"
      ],
      "metadata": {
        "colab": {
          "base_uri": "https://localhost:8080/"
        },
        "outputId": "8efdeb5d-2ded-4188-f9f1-dbd93ea9a873",
        "id": "BbJI9OjLh4vt"
      },
      "execution_count": 30,
      "outputs": [
        {
          "output_type": "stream",
          "name": "stdout",
          "text": [
            "The student named Romina, who is 15 years old and studies at PUCP got 9 in the last exam. Thus, Romina failed the course.\n",
            "The student named Daniel, who is 16 years old and studies at PUCP got 19 in the last exam. Thus, Daniel passed the course.\n"
          ]
        }
      ]
    }
  ]
}